{
 "cells": [
  {
   "cell_type": "code",
   "execution_count": 5,
   "metadata": {},
   "outputs": [],
   "source": [
    "# %matplotlib inline "
   ]
  },
  {
   "cell_type": "code",
   "execution_count": 6,
   "metadata": {},
   "outputs": [],
   "source": [
    "import torch\n",
    "from torch.autograd import Variable\n",
    "import torch.nn as nn\n",
    "import torch.optim as optim"
   ]
  },
  {
   "cell_type": "markdown",
   "metadata": {},
   "source": [
    "# Today we are going to make a single hidden layer NN \n",
    "made with adjustable input, ouput, and hidden layers"
   ]
  },
  {
   "cell_type": "code",
   "execution_count": 7,
   "metadata": {},
   "outputs": [
    {
     "name": "stdout",
     "output_type": "stream",
     "text": [
      "Net(\n",
      "  (fc1): Linear(in_features=1, out_features=10, bias=True)\n",
      "  (fc2): Linear(in_features=10, out_features=1, bias=True)\n",
      "  (sig): Sigmoid()\n",
      ")\n"
     ]
    }
   ],
   "source": [
    "# make a single hidden layer nn \n",
    "\n",
    "class Net(nn.Module):\n",
    "    def __init__(self, num_inputs, num_hidden , num_output):\n",
    "        super(Net, self).__init__()\n",
    "        self.fc1 = nn.Linear(num_inputs,num_hidden) \n",
    "        self.fc2 = nn.Linear(num_hidden,num_output) \n",
    "\n",
    "        self.sig = nn.Sigmoid() # sigmoid function normalizes output of hidden layer\n",
    "    def forward(self, x):\n",
    "        x = self.fc2(self.sig(self.fc1(x)))\n",
    "        return x\n",
    "\n",
    "# instantiate nn\n",
    "net = Net(1,10,1) # 1 input, 10 hidden , 1 output\n",
    "print(net)\n",
    "\n",
    "# set loss function\n",
    "loss_func = nn.MSELoss()\n",
    "\n",
    "#set optimization\n",
    "optimizer = optim.SGD(net.parameters(), lr=0.01, momentum=0.5)\n"
   ]
  },
  {
   "cell_type": "code",
   "execution_count": 8,
   "metadata": {},
   "outputs": [],
   "source": [
    "# data set \n",
    "# f(x) = 1/x , 1<x<100 : arbitrarily chosen function to attempt to model\n",
    "data = []\n",
    "for i in range(1,100):\n",
    "    if i != 10 or i != 30 or i != 50 or i != 70 or i != 90 :\n",
    "        data.append((i, 1/i))\n",
    "\n",
    "test_data = [(10, 1/10) , (30,1/30) , (50,1/50) , (70,1/70) , (90,1/90)]\n"
   ]
  },
  {
   "cell_type": "code",
   "execution_count": 9,
   "metadata": {},
   "outputs": [
    {
     "name": "stdout",
     "output_type": "stream",
     "text": [
      "Epoch 0 - loss: 5.105641207592271e-07\n",
      "Epoch 1 - loss: 5.171453381080937e-07\n",
      "Epoch 2 - loss: 5.276068009152368e-07\n",
      "Epoch 3 - loss: 5.430609348877624e-07\n",
      "Epoch 4 - loss: 5.642065161737264e-07\n",
      "Epoch 5 - loss: 5.90707372793986e-07\n",
      "Epoch 6 - loss: 6.209299954207381e-07\n",
      "Epoch 7 - loss: 6.517261113003769e-07\n",
      "Epoch 8 - loss: 6.79036986639403e-07\n",
      "Epoch 9 - loss: 6.988381073824712e-07\n",
      "Epoch 10 - loss: 7.081869171088329e-07\n",
      "Epoch 11 - loss: 7.058939672788256e-07\n",
      "Epoch 12 - loss: 6.92648370659299e-07\n",
      "Epoch 13 - loss: 6.70590850404551e-07\n",
      "Epoch 14 - loss: 6.423528589039051e-07\n",
      "Epoch 15 - loss: 6.108030561335909e-07\n",
      "Epoch 16 - loss: 5.783239203083212e-07\n",
      "Epoch 17 - loss: 5.465007006932865e-07\n",
      "Epoch 18 - loss: 5.168841425984283e-07\n",
      "Epoch 19 - loss: 4.898848828815972e-07\n",
      "Epoch 20 - loss: 4.6588533564317913e-07\n",
      "Epoch 21 - loss: 4.449898938219121e-07\n",
      "Epoch 22 - loss: 4.2690732016126276e-07\n",
      "Epoch 23 - loss: 4.115289584660786e-07\n",
      "Epoch 24 - loss: 3.98443035010132e-07\n",
      "Epoch 25 - loss: 3.8743982599953597e-07\n",
      "Epoch 26 - loss: 3.7816516851307824e-07\n",
      "Epoch 27 - loss: 3.7028937072136614e-07\n",
      "Epoch 28 - loss: 3.635738323737314e-07\n",
      "Epoch 29 - loss: 3.578996654596267e-07\n",
      "Epoch 30 - loss: 3.5299572687108594e-07\n",
      "Epoch 31 - loss: 3.487413380298676e-07\n",
      "Epoch 32 - loss: 3.449677024036646e-07\n",
      "Epoch 33 - loss: 3.416847960124869e-07\n",
      "Epoch 34 - loss: 3.386603282251599e-07\n",
      "Epoch 35 - loss: 3.3587380698918423e-07\n",
      "Epoch 36 - loss: 3.333224469770357e-07\n",
      "Epoch 37 - loss: 3.30832222061872e-07\n",
      "Epoch 38 - loss: 3.284708895989752e-07\n",
      "Epoch 39 - loss: 3.2618609679957444e-07\n",
      "Epoch 40 - loss: 3.238923227399937e-07\n",
      "Epoch 41 - loss: 3.2165735319722444e-07\n",
      "Epoch 42 - loss: 3.1939643463374523e-07\n",
      "Epoch 43 - loss: 3.1716024295747047e-07\n",
      "Epoch 44 - loss: 3.148650478124182e-07\n",
      "Epoch 45 - loss: 3.1254484156306717e-07\n",
      "Epoch 46 - loss: 3.1020005053505884e-07\n",
      "Epoch 47 - loss: 3.0784752880208544e-07\n",
      "Epoch 48 - loss: 3.0545453455488314e-07\n",
      "Epoch 49 - loss: 3.0300526532300864e-07\n",
      "Epoch 50 - loss: 3.0053317345846153e-07\n",
      "Epoch 51 - loss: 2.9802239964737964e-07\n",
      "Epoch 52 - loss: 2.954573687929951e-07\n",
      "Epoch 53 - loss: 2.9288727887433197e-07\n",
      "Epoch 54 - loss: 2.9026421088929055e-07\n",
      "Epoch 55 - loss: 2.876209350688441e-07\n",
      "Epoch 56 - loss: 2.849420468464814e-07\n",
      "Epoch 57 - loss: 2.8221236902936653e-07\n",
      "Epoch 58 - loss: 2.794643023662502e-07\n",
      "Epoch 59 - loss: 2.767453679553e-07\n",
      "Epoch 60 - loss: 2.7396171731197683e-07\n",
      "Epoch 61 - loss: 2.711766171614727e-07\n",
      "Epoch 62 - loss: 2.683439959128009e-07\n",
      "Epoch 63 - loss: 2.6552626763987064e-07\n",
      "Epoch 64 - loss: 2.6269282216162537e-07\n",
      "Epoch 65 - loss: 2.5985940510508954e-07\n",
      "Epoch 66 - loss: 2.5702624384393857e-07\n",
      "Epoch 67 - loss: 2.541484889206913e-07\n",
      "Epoch 68 - loss: 2.513766048650723e-07\n",
      "Epoch 69 - loss: 2.4848617385941907e-07\n",
      "Epoch 70 - loss: 2.4564201339671854e-07\n",
      "Epoch 71 - loss: 2.428142238386499e-07\n",
      "Epoch 72 - loss: 2.400320227025077e-07\n",
      "Epoch 73 - loss: 2.371932481537442e-07\n",
      "Epoch 74 - loss: 2.3435694629370118e-07\n",
      "Epoch 75 - loss: 2.3160940543220931e-07\n",
      "Epoch 76 - loss: 2.2883529027240002e-07\n",
      "Epoch 77 - loss: 2.260495648442884e-07\n",
      "Epoch 78 - loss: 2.2330904414502584e-07\n",
      "Epoch 79 - loss: 2.2055725423797412e-07\n",
      "Epoch 80 - loss: 2.1785035642096773e-07\n",
      "Epoch 81 - loss: 2.151739835198896e-07\n",
      "Epoch 82 - loss: 2.1244545678200666e-07\n",
      "Epoch 83 - loss: 2.0980259307634697e-07\n",
      "Epoch 84 - loss: 2.072034135380818e-07\n",
      "Epoch 85 - loss: 2.0456650418054778e-07\n",
      "Epoch 86 - loss: 2.0197326477955357e-07\n",
      "Epoch 87 - loss: 1.9938326545343443e-07\n",
      "Epoch 88 - loss: 1.9686287089371035e-07\n",
      "Epoch 89 - loss: 1.943059544373682e-07\n",
      "Epoch 90 - loss: 1.9183100619102333e-07\n",
      "Epoch 91 - loss: 1.8933302214918513e-07\n",
      "Epoch 92 - loss: 1.8683853397760686e-07\n",
      "Epoch 93 - loss: 1.8442456450884492e-07\n",
      "Epoch 94 - loss: 1.8201357931957318e-07\n",
      "Epoch 95 - loss: 1.7963108689400542e-07\n",
      "Epoch 96 - loss: 1.7725173506732972e-07\n",
      "Epoch 97 - loss: 1.7487579384578567e-07\n",
      "Epoch 98 - loss: 1.7256539308618812e-07\n",
      "Epoch 99 - loss: 1.7027036847139243e-07\n"
     ]
    }
   ],
   "source": [
    "# run model for 100 epochs\n",
    "for epoch in range(100):\n",
    "    for i, data2 in enumerate(data):\n",
    "        X, Y = iter(data2)\n",
    "        X, Y = Variable(torch.FloatTensor([X]), requires_grad=True), Variable(torch.FloatTensor([Y]), requires_grad=False)\n",
    "        optimizer.zero_grad()\n",
    "        outputs = net(X)\n",
    "        loss = loss_func(outputs, Y)\n",
    "        loss.backward()\n",
    "        optimizer.step()\n",
    "    print(\"Epoch {} - loss: {}\".format(epoch, loss))"
   ]
  },
  {
   "cell_type": "code",
   "execution_count": 11,
   "metadata": {},
   "outputs": [
    {
     "name": "stdout",
     "output_type": "stream",
     "text": [
      "mean error: tensor([[[0.0067]]], grad_fn=<DivBackward0>)\n"
     ]
    }
   ],
   "source": [
    "# calculate rough estimate of model performance\n",
    "error_sum = 0\n",
    "for i in range(0,5):\n",
    "    estimate = net(Variable(torch.Tensor([[[ test_data[i][0] ]]])))\n",
    "    error = abs(estimate - test_data[i][1])\n",
    "    error_sum += error\n",
    "\n",
    "print(\"mean error:\" , error_sum/5)"
   ]
  },
  {
   "cell_type": "code",
   "execution_count": null,
   "metadata": {},
   "outputs": [],
   "source": []
  }
 ],
 "metadata": {
  "interpreter": {
   "hash": "e82972de082c1e12ca2ccc4b883744e3cc8ef275ac5960b50d8d0f984b51aacf"
  },
  "kernelspec": {
   "display_name": "Python 3.9.7 64-bit ('midterm_Nov8': conda)",
   "name": "python3"
  },
  "language_info": {
   "codemirror_mode": {
    "name": "ipython",
    "version": 3
   },
   "file_extension": ".py",
   "mimetype": "text/x-python",
   "name": "python",
   "nbconvert_exporter": "python",
   "pygments_lexer": "ipython3",
   "version": "3.9.7"
  }
 },
 "nbformat": 4,
 "nbformat_minor": 5
}
